{
 "cells": [
  {
   "cell_type": "code",
   "execution_count": 1,
   "metadata": {},
   "outputs": [],
   "source": [
    "import time\n",
    "from uuid import UUID\n",
    "from sanic import Sanic, Request, HTTPResponse\n",
    "from sanic.response import html, text, json\n",
    "from utils.config import TomlConfig\n",
    "from api import api\n",
    "\n",
    "\n",
    "class NanoSecondRequest(Request):\n",
    "    @classmethod\n",
    "    def generate_id(*_):\n",
    "        return time.time_ns()\n",
    "\n",
    "# =================== 配置 ======================================\n",
    "toml_config = TomlConfig(path=\"./configs/main.toml\") # 定义配置\n",
    "app = Sanic(toml_config.APP_NAME, config=toml_config) # 注册应用\n",
    "\n",
    "# =================== 蓝图 ======================================\n",
    "app.blueprint(api) # 注册蓝图"
   ]
  },
  {
   "cell_type": "code",
   "execution_count": null,
   "metadata": {},
   "outputs": [],
   "source": [
    "uuid.UUID"
   ]
  },
  {
   "cell_type": "code",
   "execution_count": null,
   "metadata": {},
   "outputs": [],
   "source": []
  }
 ],
 "metadata": {
  "kernelspec": {
   "display_name": "py310",
   "language": "python",
   "name": "python3"
  },
  "language_info": {
   "codemirror_mode": {
    "name": "ipython",
    "version": 3
   },
   "file_extension": ".py",
   "mimetype": "text/x-python",
   "name": "python",
   "nbconvert_exporter": "python",
   "pygments_lexer": "ipython3",
   "version": "3.10.6 | packaged by conda-forge | (main, Oct 24 2022, 16:02:16) [MSC v.1916 64 bit (AMD64)]"
  },
  "orig_nbformat": 4,
  "vscode": {
   "interpreter": {
    "hash": "7e468feb35f514aafce3cc952fb1f3b43bab876fc14f6450ea05924ae7e4a934"
   }
  }
 },
 "nbformat": 4,
 "nbformat_minor": 2
}
