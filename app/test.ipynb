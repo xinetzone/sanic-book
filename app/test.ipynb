{
 "cells": [
  {
   "cell_type": "markdown",
   "metadata": {},
   "source": [
    "# 测试"
   ]
  },
  {
   "cell_type": "code",
   "execution_count": 1,
   "metadata": {},
   "outputs": [],
   "source": [
    "import time\n",
    "from uuid import UUID\n",
    "from sanic import Sanic, Request, HTTPResponse\n",
    "from sanic.response import html, text, json\n",
    "from utils.config import TomlConfig\n",
    "from api import api\n",
    "from login import login\n",
    "\n",
    "class NanoSecondRequest(Request):\n",
    "    @classmethod\n",
    "    def generate_id(*_):\n",
    "        return time.time_ns()\n",
    "\n",
    "# =================== 配置 ======================================\n",
    "toml_config = TomlConfig(path=\"./configs/main.toml\") # 定义配置\n",
    "app = Sanic(toml_config.APP_NAME, config=toml_config) # 注册应用\n",
    "\n",
    "# =================== 蓝图 ======================================\n",
    "app.blueprint(api) # 注册蓝图\n",
    "\n",
    "# =================== 应用 ======================================\n",
    "# @app.get(\"/\")\n",
    "# async def foo_handler(request: Request) -> HTTPResponse:\n",
    "#     return json({\"foo\": \"bar\"})\n",
    "\n",
    "# if __name__ == '__main__':\n",
    "#     # app.run(host='0.0.0.0', port=8888, debug=True, dev=True)\n",
    "#     app.run(host='localhost', port=8888, debug=True, dev=True)"
   ]
  },
  {
   "cell_type": "code",
   "execution_count": 2,
   "metadata": {},
   "outputs": [
    {
     "name": "stdout",
     "output_type": "stream",
     "text": [
      "[2024-01-24 18:26:43 +0800] [14760] [DEBUG] \n",
      "\n",
      "                 Sanic\n",
      "         Build Fast. Run Fast.\n",
      "\n",
      "\n",
      "[2024-01-24 18:26:43 +0800] [14760] [INFO] Sanic v23.12.1\n",
      "[2024-01-24 18:26:43 +0800] [14760] [INFO] Goin' Fast @ http://localhost:8000\n",
      "[2024-01-24 18:26:43 +0800] [14760] [INFO] app: xinet\n",
      "[2024-01-24 18:26:43 +0800] [14760] [INFO] mode: debug, single worker\n",
      "[2024-01-24 18:26:43 +0800] [14760] [INFO] server: sanic, HTTP/1.1\n",
      "[2024-01-24 18:26:43 +0800] [14760] [INFO] python: 3.11.7\n",
      "[2024-01-24 18:26:43 +0800] [14760] [INFO] platform: Windows-10-10.0.22000-SP0\n",
      "[2024-01-24 18:26:43 +0800] [14760] [INFO] packages: sanic-routing==23.12.0, sanic-ext==23.12.0\n",
      "[2024-01-24 18:26:44 +0800] [14760] [INFO] Sanic Extensions:\n",
      "[2024-01-24 18:26:44 +0800] [14760] [INFO]   > injection [0 dependencies; 0 constants]\n",
      "[2024-01-24 18:26:44 +0800] [14760] [INFO]   > openapi [http://<unknown>/docs]\n",
      "[2024-01-24 18:26:44 +0800] [14760] [INFO]   > http \n",
      "[2024-01-24 18:26:44 +0800] [14760] [INFO]   > templating [jinja2==3.1.3]\n"
     ]
    },
    {
     "name": "stderr",
     "output_type": "stream",
     "text": [
      "[2024-01-24 18:27:09 +0800] [14760] [ERROR] Exception occurred in one of response middleware handlers\n",
      "Traceback (most recent call last):\n",
      "  File \"c:\\Users\\chaos\\anaconda3\\envs\\py311\\Lib\\site-packages\\sanic\\request\\types.py\", line 402, in respond\n",
      "    response = await self.app._run_response_middleware(\n",
      "               ^^^^^^^^^^^^^^^^^^^^^^^^^^^^^^^^^^^^^^^^\n",
      "  File \"c:\\Users\\chaos\\anaconda3\\envs\\py311\\Lib\\site-packages\\sanic\\app.py\", line 1592, in _run_response_middleware\n",
      "    _response = await _response\n",
      "                ^^^^^^^^^^^^^^^\n",
      "  File \"c:\\Users\\chaos\\anaconda3\\envs\\py311\\Lib\\site-packages\\sanic_ext\\extensions\\http\\cors.py\", line 58, in _add_cors_headers\n",
      "    _add_origin_header(request, response)\n",
      "  File \"c:\\Users\\chaos\\anaconda3\\envs\\py311\\Lib\\site-packages\\sanic_ext\\extensions\\http\\cors.py\", line 164, in _add_origin_header\n",
      "    allow_origins = _get_from_cors_ctx(\n",
      "                    ^^^^^^^^^^^^^^^^^^^\n",
      "  File \"c:\\Users\\chaos\\anaconda3\\envs\\py311\\Lib\\site-packages\\sanic_ext\\extensions\\http\\cors.py\", line 155, in _get_from_cors_ctx\n",
      "    value = getattr(request.route.ctx._cors, key, default)\n",
      "                    ^^^^^^^^^^^^^^^^^^^^^^^\n",
      "AttributeError: 'types.SimpleNamespace' object has no attribute '_cors'\n"
     ]
    },
    {
     "name": "stdout",
     "output_type": "stream",
     "text": [
      "Adding The Little Prce by Antoine de Saint-Exupéry\n"
     ]
    }
   ],
   "source": [
    "import asyncio\n",
    "server = await app.create_server(host='localhost', port=8000, debug=True)\n",
    "await server.startup()\n",
    "# await server.serve_forever()"
   ]
  },
  {
   "cell_type": "code",
   "execution_count": 3,
   "metadata": {},
   "outputs": [
    {
     "data": {
      "text/plain": [
       "<function strawberry.sanic.views.HTTPMethodView.as_view.<locals>.view(*args, **kwargs)>"
      ]
     },
     "execution_count": 3,
     "metadata": {},
     "output_type": "execute_result"
    }
   ],
   "source": [
    "from strawberry.sanic.views import GraphQLView\n",
    "import strawberry\n",
    "from utils.schema import schema\n",
    "\n",
    "app.add_route(\n",
    "    GraphQLView.as_view(schema=schema, graphql_ide=True),\n",
    "    \"/graphql\",\n",
    ")"
   ]
  },
  {
   "cell_type": "code",
   "execution_count": null,
   "metadata": {},
   "outputs": [],
   "source": []
  }
 ],
 "metadata": {
  "kernelspec": {
   "display_name": "py310",
   "language": "python",
   "name": "python3"
  },
  "language_info": {
   "codemirror_mode": {
    "name": "ipython",
    "version": 3
   },
   "file_extension": ".py",
   "mimetype": "text/x-python",
   "name": "python",
   "nbconvert_exporter": "python",
   "pygments_lexer": "ipython3",
   "version": "3.11.7"
  },
  "orig_nbformat": 4,
  "vscode": {
   "interpreter": {
    "hash": "7e468feb35f514aafce3cc952fb1f3b43bab876fc14f6450ea05924ae7e4a934"
   }
  }
 },
 "nbformat": 4,
 "nbformat_minor": 2
}
