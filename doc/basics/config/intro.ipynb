{
 "cells": [
  {
   "cell_type": "markdown",
   "metadata": {},
   "source": [
    "# Sanic 配置简介"
   ]
  },
  {
   "cell_type": "markdown",
   "metadata": {},
   "source": [
    "Sanic 在应用程序对象的 `config` 属性中持有配置。配置对象只是使用点表示法或像字典一样修改的对象。\n",
    "\n",
    "```python\n",
    "app = Sanic(\"myapp\")\n",
    "app.config.DB_NAME = \"appdb\"\n",
    "app.config[\"DB_USER\"] = \"appuser\"\n",
    "```"
   ]
  },
  {
   "cell_type": "markdown",
   "metadata": {},
   "source": [
    "你也可以像在普通字典上一样使用 {meth}`update` 方法：\n",
    "\n",
    "```python\n",
    "db_settings = {\n",
    "    'DB_HOST': 'localhost',\n",
    "    'DB_NAME': 'appdb',\n",
    "    'DB_USER': 'appuser'\n",
    "}\n",
    "app.config.update(db_settings)\n",
    "```"
   ]
  },
  {
   "cell_type": "markdown",
   "metadata": {},
   "source": [
    "```{note}\n",
    "在 Sanic 中，将配置值命名为大写字母是标准做法。实际上，如果你开始混合使用大写和小写名称，可能会遇到奇怪的行为。\n",
    "```"
   ]
  },
  {
   "cell_type": "markdown",
   "metadata": {},
   "source": [
    "## 载入配置\n",
    "\n",
    "## 环境变量配置 Sanic\n",
    "\n",
    "任何以 `SANIC_` 前缀定义的环境变量都将应用到 Sanic 配置中。例如，设置 `SANIC_REQUEST_TIMEOUT` 将由应用程序自动加载并输入到  `REQUEST_TIMEOUT` 配置变量中。\n",
    "\n",
    "```bash\n",
    "$ export SANIC_REQUEST_TIMEOUT=10\n",
    "```\n",
    "\n",
    "```bash\n",
    ">>> print(app.config.REQUEST_TIMEOUT)\n",
    "10\n",
    "```\n",
    "\n",
    "你可以更改 Sanic 在启动时期望的前缀。\n",
    "\n",
    "```bash\n",
    "$ export MYAPP_REQUEST_TIMEOUT=10\n",
    ">>> app = Sanic(__name__, env_prefix='MYAPP_')\n",
    ">>> print(app.config.REQUEST_TIMEOUT)\n",
    "10\n",
    "```\n"
   ]
  },
  {
   "cell_type": "markdown",
   "metadata": {},
   "source": [
    "你还可以完全禁用环境变量加载。\n",
    "\n",
    "```python\n",
    "app = Sanic(__name__, load_env=False)\n",
    "```"
   ]
  },
  {
   "cell_type": "markdown",
   "metadata": {},
   "source": [
    "## 使用 `app.update_config`\n",
    "\n",
    "Sanic 实例有非常通用的方法用于加载配置：`app.update_config`。你可以向它提供文件路径、字典、类，或者其他任何类型的对象。\n",
    "\n",
    "### 从文件中加载配置\n",
    "\n",
    "假设你有名为 `my_config.py` 的文件，它看起来是这样的。\n",
    "\n",
    "```python\n",
    "# my_config.py\n",
    "A = 1\n",
    "B = 2\n",
    "```\n",
    "\n",
    "你可以通过将文件路径传递给 `app.update_config` 来将其作为配置值加载。\n",
    "\n",
    "```bash\n",
    ">>> app.update_config(\"/path/to/my_config.py\")\n",
    ">>> print(app.config.A)\n",
    "1\n",
    "```"
   ]
  },
  {
   "cell_type": "markdown",
   "metadata": {},
   "source": [
    "这个路径也接受 bash 风格的环境变量。\n",
    "\n",
    "```bash\n",
    "$ export my_path=\"/path/to\"\n",
    ">>> app.update_config(\"${my_path}/my_config.py\")\n",
    "```\n",
    "\n",
    "```{note}\n",
    "只需记住，你必须以 `${environment_variable}` 的格式提供环境变量，而 `$environment_variable` 不会被展开（被视为“普通”文本）。\n",
    "```"
   ]
  },
  {
   "cell_type": "markdown",
   "metadata": {},
   "source": [
    "### 从 dict 或者 class 加载配置\n",
    "\n",
    "`app.update_config` 也支持 普通的 dict 对象：\n",
    "\n",
    "```python\n",
    "app.update_config({\"A\": 1, \"B\": 2})\n",
    "```"
   ]
  },
  {
   "cell_type": "markdown",
   "metadata": {},
   "source": [
    "你可以定义自己的配置类，并将其传递给 `app.update_config`。\n",
    "\n",
    "```python\n",
    "class MyConfig:\n",
    "    A = 1\n",
    "    B = 2\n",
    "\n",
    "app.update_config(MyConfig)\n",
    "```"
   ]
  },
  {
   "cell_type": "markdown",
   "metadata": {},
   "source": [
    "它甚至可以被实例化：\n",
    "\n",
    "```bash\n",
    "app.update_config(MyConfig())\n",
    "```"
   ]
  },
  {
   "cell_type": "markdown",
   "metadata": {},
   "source": [
    "## 类型 cast\n",
    "\n",
    "当从环境变量加载时，Sanic 会尝试将值转换为预期的 Python 类型。这特别适用于：`int`，`float` 和 `bool`。\n",
    "\n",
    "关于布尔值，允许以下不区分大小写的值：\n",
    "\n",
    "- `True`: y, yes, yep, yup, t, true, on, enable, enabled, 1\n",
    "- `False`: n, no, f, false, off, disable, disabled, 0"
   ]
  },
  {
   "cell_type": "markdown",
   "metadata": {},
   "source": [
    "如果值无法转换，它将默认为 `str`。\n",
    "\n",
    "此外，Sanic 可以通过使用额外的类型转换器来配置以转换其他类型。这应该是任何可调用的，返回值或引发 `ValueError`。\n",
    "\n",
    "```python\n",
    "app = Sanic(..., config=Config(converters=[UUID]))\n",
    "```"
   ]
  },
  {
   "cell_type": "markdown",
   "metadata": {},
   "source": []
  }
 ],
 "metadata": {
  "language_info": {
   "name": "python"
  }
 },
 "nbformat": 4,
 "nbformat_minor": 2
}
