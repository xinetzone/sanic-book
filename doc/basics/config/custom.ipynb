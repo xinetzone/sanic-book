{
 "cells": [
  {
   "cell_type": "markdown",
   "metadata": {},
   "source": [
    "# 自定义 Sanic 配置\n",
    "\n",
    "自定义配置的最简单形式是将你自己的对象直接传递给 `Sanic` 应用程序实例\n",
    "\n",
    "如果你创建了一个自定义配置对象，强烈建议你继承 {class}`sanic.config.Config` 选项来继承其行为。你可以使用这个选项来添加属性，或者你自己的一组自定义逻辑。\n",
    "\n",
    "```python\n",
    "from sanic.config import Config\n",
    "\n",
    "class MyConfig(Config):\n",
    "    FOO = \"bar\"\n",
    "\n",
    "app = Sanic(..., config=MyConfig())\n",
    "```"
   ]
  },
  {
   "cell_type": "markdown",
   "metadata": {},
   "source": [
    "如果你想使用一种与支持的格式不同的配置文件，这将是一个有用的特性示例。\n",
    "\n",
    "```python\n",
    "from sanic import Sanic, text\n",
    "from sanic.config import Config\n",
    "\n",
    "class TomlConfig(Config):\n",
    "    def __init__(self, *args, path: str, **kwargs):\n",
    "        super().__init__(*args, **kwargs)\n",
    "\n",
    "        with open(path, \"r\") as f:\n",
    "            self.apply(toml.load(f))\n",
    "\n",
    "    def apply(self, config):\n",
    "        self.update(self._to_uppercase(config))\n",
    "\n",
    "    def _to_uppercase(self, obj: Dict[str, Any]) -> Dict[str, Any]:\n",
    "        retval: Dict[str, Any] = {}\n",
    "        for key, value in obj.items():\n",
    "            upper_key = key.upper()\n",
    "            if isinstance(value, list):\n",
    "                retval[upper_key] = [\n",
    "                    self._to_uppercase(item) for item in value\n",
    "                ]\n",
    "            elif isinstance(value, dict):\n",
    "                retval[upper_key] = self._to_uppercase(value)\n",
    "            else:\n",
    "                retval[upper_key] = value\n",
    "        return retval\n",
    "\n",
    "toml_config = TomlConfig(path=\"/path/to/config.toml\")\n",
    "app = Sanic(toml_config.APP_NAME, config=toml_config)\n",
    "```"
   ]
  },
  {
   "cell_type": "markdown",
   "metadata": {},
   "source": []
  }
 ],
 "metadata": {
  "language_info": {
   "name": "python"
  }
 },
 "nbformat": 4,
 "nbformat_minor": 2
}
