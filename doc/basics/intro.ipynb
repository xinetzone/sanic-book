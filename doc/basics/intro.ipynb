{
 "cells": [
  {
   "cell_type": "markdown",
   "metadata": {},
   "source": [
    "# Sanic 简介\n",
    "\n",
    "安装：\n",
    "\n",
    "```bash\n",
    "pip install sanic\n",
    "```"
   ]
  },
  {
   "cell_type": "markdown",
   "metadata": {},
   "source": [
    "Sanic 拥有你所需的所有工具，用于可扩展的生产级服务器——开箱即用！包括完整的 TLS 支持。"
   ]
  },
  {
   "cell_type": "code",
   "execution_count": 1,
   "metadata": {},
   "outputs": [],
   "source": [
    "from sanic import Sanic\n",
    "from sanic.response import text\n",
    "\n",
    "app = Sanic(\"MyHelloWorldApp\")\n",
    "\n",
    "@app.get(\"/\")\n",
    "async def hello_world(request):\n",
    "    return text(\"Hello, world.\")"
   ]
  },
  {
   "cell_type": "markdown",
   "metadata": {},
   "source": [
    "- 每个请求处理器可以是同步的（`def hello_world`）或异步的（`async def hello_world`）。除非你有明确的理由，否则总是选择 `async`。\n",
    "- `request` 对象总是处理器的第一个参数。其他框架将其作为上下文变量传递。在 `async` 世界中，这样做效果不佳，明确表达会更容易（更不用说更清晰、性能更好）。\n",
    "- 你必须使用响应类型。许多其他框架允许你有这样的返回值：`return \"Hello, world.\"` 或这样：`return {\"foo\": \"bar\"}`。但是，为了进行这种隐式调用，链条中的某处需要花费宝贵的时间来尝试确定你的意图。因此，为了这种便利性，Sanic 决定要求显式调用。"
   ]
  },
  {
   "cell_type": "markdown",
   "metadata": {},
   "source": [
    "将上面的文件保存为 `server.py`。然后启动它\n",
    "\n",
    "```bash\n",
    "sanic server\n",
    "```\n",
    "\n",
    "```{note}\n",
    "这是另一个重要的区别。其他框架带有内置的开发服务器，并明确表示它仅用于开发用途。Sanic 则恰恰相反。\n",
    "\n",
    "打包的服务器是可以直接用于生产环境的。\n",
    "```"
   ]
  },
  {
   "cell_type": "markdown",
   "metadata": {},
   "source": [
    "可以在 jupyter notebook 中展示："
   ]
  },
  {
   "cell_type": "code",
   "execution_count": 2,
   "metadata": {},
   "outputs": [
    {
     "name": "stdout",
     "output_type": "stream",
     "text": [
      "[2024-01-23 14:54:15 +0800] [12844] [DEBUG] \n",
      "\n",
      "                 Sanic\n",
      "         Build Fast. Run Fast.\n",
      "\n",
      "\n",
      "[2024-01-23 14:54:15 +0800] [12844] [INFO] Sanic v23.12.1\n",
      "[2024-01-23 14:54:15 +0800] [12844] [INFO] Goin' Fast @ http://localhost:8000\n",
      "[2024-01-23 14:54:15 +0800] [12844] [INFO] app: MyHelloWorldApp\n",
      "[2024-01-23 14:54:15 +0800] [12844] [INFO] mode: debug, single worker\n",
      "[2024-01-23 14:54:15 +0800] [12844] [INFO] server: sanic, HTTP/1.1\n",
      "[2024-01-23 14:54:15 +0800] [12844] [INFO] python: 3.11.7\n",
      "[2024-01-23 14:54:15 +0800] [12844] [INFO] platform: Windows-10-10.0.22000-SP0\n",
      "[2024-01-23 14:54:15 +0800] [12844] [INFO] packages: sanic-routing==23.12.0\n"
     ]
    }
   ],
   "source": [
    "import asyncio\n",
    "server = await app.create_server(host='localhost', port=8000, debug=True)\n",
    "await server.startup()\n",
    "# await server.serve_forever()"
   ]
  },
  {
   "cell_type": "markdown",
   "metadata": {},
   "source": [
    "也可以直接启动：\n",
    "\n",
    "```bash\n",
    "sanic path.to.server:app\n",
    "```"
   ]
  },
  {
   "cell_type": "markdown",
   "metadata": {},
   "source": [
    "## Sanic 插件简介\n",
    "\n",
    "Sanic 有意追求简洁和中立的特性列表。该项目不希望要求你以某种特定方式构建你的应用程序，并尽量避免规定特定的开发模式。有许多由社区构建和维护的第三方插件，用于添加不符合核心仓库要求的其他功能。\n",
    "\n",
    "然而，为了帮助 API 开发者，Sanic 组织维护了名为 [Sanic Extensions](https://sanic.dev/en/plugins/sanic-ext/getting-started.html) 的官方插件，提供各种好东西，包括：\n",
    "\n",
    "- 使用 Redoc 和/或 Swagger 的 OpenAPI 文档\n",
    "- CORS 保护\n",
    "- 路由处理器中的依赖注入\n",
    "- 请求查询参数和正文输入验证\n",
    "- 自动创建 `HEAD`、`OPTIONS` 和 `TRACE` 端点\n",
    "- 预定义的、特定于端点的响应序列化器\n",
    "\n",
    "设置的首选方法是与 Sanic 一起安装，但您也可以单独安装这些软件包。\n",
    "\n",
    "```bash\n",
    "pip install sanic[ext]\n",
    "```\n",
    "\n",
    "从 v21.12 开始，如果 Sanic Extensions 与 Sanic 在同一个环境中，Sanic 将自动设置 Sanic Extensions。您还将访问两个额外的应用程序属性：\n",
    "\n",
    "- {meth}`app.extend` - 用于配置 Sanic Extensions\n",
    "- `app.ext` - 附加到应用程序的 Extend 实例"
   ]
  },
  {
   "cell_type": "markdown",
   "metadata": {},
   "source": []
  }
 ],
 "metadata": {
  "kernelspec": {
   "display_name": "py311",
   "language": "python",
   "name": "python3"
  },
  "language_info": {
   "codemirror_mode": {
    "name": "ipython",
    "version": 3
   },
   "file_extension": ".py",
   "mimetype": "text/x-python",
   "name": "python",
   "nbconvert_exporter": "python",
   "pygments_lexer": "ipython3",
   "version": "3.11.7"
  }
 },
 "nbformat": 4,
 "nbformat_minor": 2
}
