{
 "cells": [
  {
   "cell_type": "markdown",
   "metadata": {},
   "source": [
    "# Sanic 处理程序简介\n",
    "\n",
    "实例在其参数中包含许多有用的信息。完整的细节请参考API文档。\n",
    "\n",
    "正如我们在处理程序部分所看到的，路由处理程序中的第一个参数通常是{class}`sanic.request.Request`对象。因为 Sanic 是异步框架，处理程序将在 `asyncio.Task` 内运行，并由事件循环调度。这意味着处理程序将在隔离的上下文中执行，请求对象将对该处理程序的任务是唯一的。"
   ]
  }
 ],
 "metadata": {
  "language_info": {
   "name": "python"
  }
 },
 "nbformat": 4,
 "nbformat_minor": 2
}
