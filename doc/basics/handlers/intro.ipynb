{
 "cells": [
  {
   "cell_type": "markdown",
   "metadata": {},
   "source": [
    "# Sanic 处理程序简介\n",
    "\n",
    "处理程序(handlers) 也被称为视图（view）。在 Sanic 中，处理程序是至少接受 {class}`sanic.request.Request` 实例作为参数并返回 {class}`sanic.response.HTTPResponse` 实例或执行相同操作的协程的任何可调用程序。\n",
    "\n",
    "它是一个同步或异步函数。\n",
    "\n",
    "```python\n",
    "def i_am_a_handler(request):\n",
    "    return HTTPResponse()\n",
    "\n",
    "async def i_am_ALSO_a_handler(request):\n",
    "    return HTTPResponse()\n",
    "```\n",
    "\n",
    "处理程序的工作是响应端点并做一些事情。这是您的大部分业务逻辑的去处。"
   ]
  },
  {
   "cell_type": "markdown",
   "metadata": {},
   "source": [
    "```{important}\n",
    "1. 您几乎永远不会想要直接使用 `sanic.response.HTTPresponse`。使用其中一种[便利方法](https://sanic.dev/en/guide/basics/response.html#methods)要简单得多。\n",
    "2. 正如我们将在[流部分](https://sanic.dev/en/guide/advanced/streaming.html#response-streaming)看到的，您并不总是需要返回对象。如果使用这个低级 API，则可以在处理程序中控制响应流，并且不使用返回对象。\n",
    "```\n",
    "\n",
    "## 简单的基于函数的处理程序\n",
    "\n",
    "创建路由处理程序最常用的方法是修饰该函数。它创建了视觉上简单的路由定义标识。"
   ]
  },
  {
   "cell_type": "code",
   "execution_count": 1,
   "metadata": {},
   "outputs": [],
   "source": [
    "from sanic import text, Sanic\n",
    "\n",
    "app = Sanic(\"Demo\")\n",
    "@app.get(\"/foo\")\n",
    "async def foo_handler(request):\n",
    "    return text(\"I said foo!\")"
   ]
  },
  {
   "cell_type": "markdown",
   "metadata": {},
   "source": [
    "下面的处理器的名字是：`\"foo_handler\"`："
   ]
  },
  {
   "cell_type": "code",
   "execution_count": null,
   "metadata": {},
   "outputs": [],
   "source": [
    "@app.get(\"/foo\")\n",
    "async def foo_handler(request):\n",
    "    return text(\"I said foo!\")"
   ]
  },
  {
   "cell_type": "markdown",
   "metadata": {},
   "source": [
    "但是，您可以通过将 `name` 参数传递给装饰器来覆盖这一点。\n",
    "\n",
    "```python\n",
    "# 处理器名字改为 \"foo\"\n",
    "@app.get(\"/foo\", name=\"foo\")\n",
    "async def foo_handler(request):\n",
    "    return text(\"I said foo!\")\n",
    "```"
   ]
  },
  {
   "cell_type": "markdown",
   "metadata": {},
   "source": [
    "事实上，有时您必须提供名称。例如，如果在同一个函数上使用两个装饰器，则需要为其中至少一个提供名称。\n",
    "\n",
    "如果你不这样做，你会得到一个错误，你的应用程序将无法启动。名称在应用程序中必须是唯一的。\n",
    "\n",
    "```python\n",
    "# Two handlers, same function,\n",
    "# different names:\n",
    "# - \"foo_arg\"\n",
    "# - \"foo\"\n",
    "@app.get(\"/foo/<arg>\", name=\"foo_arg\")\n",
    "@app.get(\"/foo\")\n",
    "async def foo(request, arg=None):\n",
    "    return text(\"I said foo!\")\n",
    "```"
   ]
  }
 ],
 "metadata": {
  "kernelspec": {
   "display_name": "py311",
   "language": "python",
   "name": "python3"
  },
  "language_info": {
   "codemirror_mode": {
    "name": "ipython",
    "version": 3
   },
   "file_extension": ".py",
   "mimetype": "text/x-python",
   "name": "python",
   "nbconvert_exporter": "python",
   "pygments_lexer": "ipython3",
   "version": "3.11.7"
  }
 },
 "nbformat": 4,
 "nbformat_minor": 2
}
