{
 "cells": [
  {
   "cell_type": "markdown",
   "metadata": {},
   "source": [
    "# 基于 class 的视图"
   ]
  },
  {
   "cell_type": "markdown",
   "metadata": {},
   "source": [
    "在设计API时，常见的模式是在同一个端点上根据 HTTP 方法提供多种功能。\n",
    "\n",
    "```python\n",
    "@app.get(\"/foo\")\n",
    "async def foo_get(request):\n",
    "    ...\n",
    "\n",
    "@app.post(\"/foo\")\n",
    "async def foo_post(request):\n",
    "    ...\n",
    "\n",
    "@app.put(\"/foo\")\n",
    "async def foo_put(request):\n",
    "    ...\n",
    "\n",
    "@app.route(\"/bar\", methods=[\"GET\", \"POST\", \"PATCH\"])\n",
    "async def bar(request):\n",
    "    if request.method == \"GET\":\n",
    "        ...\n",
    "\n",
    "    elif request.method == \"POST\":\n",
    "        ...\n",
    "\n",
    "    elif request.method == \"PATCH\":\n",
    "        ...\n",
    "```\n",
    "\n",
    "虽然这两个选项都可以工作，但它们不是良好的设计实践，并且随着项目的扩展，可能难以维护。\n",
    "\n",
    "更好的方案是：基于类的视图只是实现了对请求的响应行为的类。它们提供了一种在同一端点上处理不同 HTTP 请求类型的方法。"
   ]
  },
  {
   "cell_type": "markdown",
   "metadata": {},
   "source": [
    "```python\n",
    "from sanic.views import HTTPMethodView\n",
    "\n",
    "class FooBar(HTTPMethodView):\n",
    "    async def get(self, request):\n",
    "        ...\n",
    "\n",
    "    async def post(self, request):\n",
    "        ...\n",
    "\n",
    "    async def put(self, request):\n",
    "        ...\n",
    "\n",
    "app.add_route(FooBar.as_view(), \"/foobar\")\n",
    "```"
   ]
  },
  {
   "cell_type": "markdown",
   "metadata": {},
   "source": [
    "## 定义视图\n",
    "\n",
    "基于类的视图应该继承自 {class}`sanic.views.HTTPMethodView`。然后，你可以实现具有相应 HTTP 方法名称的类方法。如果收到没有定义方法的请求，将生成 405：不允许的方法响应。"
   ]
  },
  {
   "cell_type": "markdown",
   "metadata": {},
   "source": [
    "要在端点上注册基于类的视图，可以使用 `app.add_route` 方法。第一个参数应该是调用了 `as_view` 方法的已定义类，第二个参数应该是 URL 端点。"
   ]
  },
  {
   "cell_type": "markdown",
   "metadata": {},
   "source": [
    "```python\n",
    "from sanic.views import HTTPMethodView\n",
    "from sanic.response import text\n",
    "\n",
    "class SimpleView(HTTPMethodView):\n",
    "\n",
    "  def get(self, request):\n",
    "      return text(\"I am get method\")\n",
    "\n",
    "  # You can also use async syntax\n",
    "  async def post(self, request):\n",
    "      return text(\"I am post method\")\n",
    "\n",
    "  def put(self, request):\n",
    "      return text(\"I am put method\")\n",
    "\n",
    "  def patch(self, request):\n",
    "      return text(\"I am patch method\")\n",
    "\n",
    "  def delete(self, request):\n",
    "      return text(\"I am delete method\")\n",
    "\n",
    "app.add_route(SimpleView.as_view(), \"/\")\n",
    "```"
   ]
  },
  {
   "cell_type": "markdown",
   "metadata": {},
   "source": [
    "可用方法有：`get`，`post`，`put`，`patch`，`delete`，`head` 和 `options`。"
   ]
  },
  {
   "cell_type": "markdown",
   "metadata": {},
   "source": [
    "### 定义路径参数\n",
    "\n",
    "```python\n",
    "class NameView(HTTPMethodView):\n",
    "\n",
    "  def get(self, request, name):\n",
    "    return text(\"Hello {}\".format(name))\n",
    "\n",
    "app.add_route(NameView.as_view(), \"/<name>\")\n",
    "```"
   ]
  },
  {
   "cell_type": "markdown",
   "metadata": {},
   "source": [
    "### 生成 URL\n",
    "\n",
    "这就像生成任何其他 URL 一样，只是类名是端点的一部分。"
   ]
  },
  {
   "cell_type": "markdown",
   "metadata": {},
   "source": [
    "```python\n",
    "@app.route(\"/\")\n",
    "def index(request):\n",
    "    url = app.url_for(\"SpecialClassView\")\n",
    "    return redirect(url)\n",
    "\n",
    "class SpecialClassView(HTTPMethodView):\n",
    "    def get(self, request):\n",
    "        return text(\"Hello from the Special Class View!\")\n",
    "\n",
    "app.add_route(SpecialClassView.as_view(), \"/special_class_view\")\n",
    "```"
   ]
  },
  {
   "cell_type": "code",
   "execution_count": null,
   "metadata": {},
   "outputs": [],
   "source": []
  }
 ],
 "metadata": {
  "kernelspec": {
   "display_name": "py311",
   "language": "python",
   "name": "python3"
  },
  "language_info": {
   "codemirror_mode": {
    "name": "ipython",
    "version": 3
   },
   "file_extension": ".py",
   "mimetype": "text/x-python",
   "name": "python",
   "nbconvert_exporter": "python",
   "pygments_lexer": "ipython3",
   "version": "3.11.7"
  }
 },
 "nbformat": 4,
 "nbformat_minor": 2
}
