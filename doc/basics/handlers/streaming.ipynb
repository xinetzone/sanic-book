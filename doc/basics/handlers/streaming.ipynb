{
 "cells": [
  {
   "cell_type": "markdown",
   "metadata": {},
   "source": [
    "# 流处理\n",
    "\n",
    "## 请求流处理\n",
    "\n",
    "Sanic 允许客户端发送的数据字节到达时开始处理数据。\n",
    "\n",
    "在端点上启用时，你可以使用 `await request.stream.read()` 来流式处理请求体。"
   ]
  },
  {
   "cell_type": "code",
   "execution_count": 2,
   "metadata": {},
   "outputs": [],
   "source": [
    "from sanic.views import stream, HTTPMethodView\n",
    "\n",
    "class SimpleView(HTTPMethodView):\n",
    "    @stream\n",
    "    async def post(self, request):\n",
    "        result = \"\"\n",
    "        while True:\n",
    "            body = await request.stream.read()\n",
    "            if body is None:\n",
    "                break\n",
    "            result += body.decode(\"utf-8\")\n",
    "        return text(result)"
   ]
  },
  {
   "cell_type": "markdown",
   "metadata": {},
   "source": [
    "当请求体完成时，该方法将返回 `None`。\n",
    "\n",
    "它还可以通过装饰器中的关键字参数启用：\n",
    "\n",
    "```python\n",
    "@app.post(\"/stream\", stream=True)\n",
    "async def handler(request):\n",
    "    ...\n",
    "    body = await request.stream.read()\n",
    "    ...\n",
    "```\n",
    "\n",
    "或者使用 {meth}`add_route`：\n",
    "\n",
    "```python\n",
    "bp.add_route(\n",
    "    bp_handler,\n",
    "    \"/bp_stream\",\n",
    "    methods=[\"POST\"],\n",
    "    stream=True,\n",
    ")\n",
    "```"
   ]
  },
  {
   "cell_type": "markdown",
   "metadata": {},
   "source": [
    "## 响应流处理\n",
    "\n",
    "Sanic 允许你将内容流式传输到客户端。\n",
    "\n",
    "```python\n",
    "@app.route(\"/\")\n",
    "async def test(request):\n",
    "    response = await request.respond(content_type=\"text/csv\")\n",
    "    await response.send(\"foo,\")\n",
    "    await response.send(\"bar\")\n",
    "\n",
    "    # Optionally, you can explicitly end the stream by calling:\n",
    "    await response.eof()\n",
    "```"
   ]
  },
  {
   "cell_type": "markdown",
   "metadata": {},
   "source": [
    "这在你想要将源自外部服务（如数据库）的内容流式传输到客户端的情况下非常有用。例如，你可以使用 `asyncpg` 提供的异步游标将数据库记录流式传输到客户端。\n",
    "\n",
    "```python\n",
    "@app.route(\"/\")\n",
    "async def index(request):\n",
    "    response = await request.respond()\n",
    "    conn = await asyncpg.connect(database='test')\n",
    "    async with conn.transaction():\n",
    "        async for record in conn.cursor('SELECT generate_series(0, 10)'):\n",
    "            await response.send(record[0])\n",
    "```"
   ]
  },
  {
   "cell_type": "markdown",
   "metadata": {},
   "source": [
    "你可以通过调用 `await response.eof()` 来明确结束流。这是一个方便的方法，用来替换 `await response.send(\"\", True)`。在你的处理程序确定没有其他内容要发送回客户端后，应该调用一次。虽然在 Sanic 服务器中使用它是可选的，但如果你在 ASGI 模式下运行 Sanic，那么你必须明确终止流。"
   ]
  },
  {
   "cell_type": "markdown",
   "metadata": {},
   "source": [
    "## 文件流\n",
    "\n",
    "Sanic 提供了 `sanic.response.file_stream` 函数，当你想发送大文件时非常有用。它返回 `StreamingHTTPResponse` 对象，并默认使用分块传输编码；因此，Sanic 不会在响应中添加 `Content-Length` HTTP 头。\n",
    "\n",
    "典型的用例可能是流式传输视频文件。\n",
    "\n",
    "```python\n",
    "@app.route(\"/mp4\")\n",
    "async def handler_file_stream(request):\n",
    "    return await response.file_stream(\n",
    "        \"/path/to/sample.mp4\",\n",
    "        chunk_size=1024,\n",
    "        mime_type=\"application/metalink4+xml\",\n",
    "        headers={\n",
    "            \"Content-Disposition\": 'Attachment; filename=\"nicer_name.meta4\"',\n",
    "            \"Content-Type\": \"application/metalink4+xml\",\n",
    "        },\n",
    "    )\n",
    "```\n",
    "\n",
    "如果你想使用 `Content-Length` 头，你可以通过添加 `Content-Length` 头来禁用分块传输编码并手动添加。"
   ]
  },
  {
   "cell_type": "markdown",
   "metadata": {},
   "source": [
    "```python\n",
    "from aiofiles import os as async_os\n",
    "from sanic.response import file_stream\n",
    "\n",
    "@app.route(\"/\")\n",
    "async def index(request):\n",
    "    file_path = \"/srv/www/whatever.png\"\n",
    "\n",
    "    file_stat = await async_os.stat(file_path)\n",
    "    headers = {\"Content-Length\": str(file_stat.st_size)}\n",
    "\n",
    "    return await file_stream(\n",
    "        file_path,\n",
    "        headers=headers,\n",
    "    )\n",
    "```"
   ]
  },
  {
   "cell_type": "code",
   "execution_count": null,
   "metadata": {},
   "outputs": [],
   "source": []
  }
 ],
 "metadata": {
  "kernelspec": {
   "display_name": "py311",
   "language": "python",
   "name": "python3"
  },
  "language_info": {
   "codemirror_mode": {
    "name": "ipython",
    "version": 3
   },
   "file_extension": ".py",
   "mimetype": "text/x-python",
   "name": "python",
   "nbconvert_exporter": "python",
   "pygments_lexer": "ipython3",
   "version": "3.11.7"
  }
 },
 "nbformat": 4,
 "nbformat_minor": 2
}
