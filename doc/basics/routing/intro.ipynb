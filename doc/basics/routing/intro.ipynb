{
 "cells": [
  {
   "cell_type": "markdown",
   "metadata": {},
   "source": [
    "# Sanic 路由简介\n",
    "\n",
    "将处理程序连接到端点的最基本方法是使用 `app.add_route()`。\n",
    "\n",
    "```python\n",
    "async def handler(request):\n",
    "    return text(\"OK\")\n",
    "\n",
    "app.add_route(handler, \"/test\")\n",
    "```\n",
    "\n",
    "默认情况下，路由作为 HTTP GET 请求可用。您可以更改处理程序以响应一个或多个 HTTP 方法。\n",
    "\n",
    "```python\n",
    "app.add_route(\n",
    "    handler,\n",
    "    '/test',\n",
    "    methods=[\"POST\", \"PUT\"],\n",
    ")\n",
    "```"
   ]
  },
  {
   "cell_type": "markdown",
   "metadata": {},
   "source": [
    "也可以直接使用装饰器：\n",
    "\n",
    "```python\n",
    "@app.route('/test', methods=[\"POST\", \"PUT\"])\n",
    "async def handler(request):\n",
    "    return text('OK')\n",
    "```"
   ]
  },
  {
   "cell_type": "markdown",
   "metadata": {},
   "source": [
    "## HTTP 方法\n",
    "\n",
    "每个标准 HTTP 方法都有方便的装饰器。"
   ]
  },
  {
   "cell_type": "markdown",
   "metadata": {},
   "source": [
    "- [GET](https://developer.mozilla.org/en-US/docs/Web/HTTP/Methods/GET):\n",
    "    ```python\n",
    "    @app.get('/test')\n",
    "    async def handler(request):\n",
    "        return text('OK')\n",
    "    ```\n",
    "- [POST](https://developer.mozilla.org/en-US/docs/Web/HTTP/Methods/POST):\n",
    "    ```python\n",
    "    @app.post('/test')\n",
    "    async def handler(request):\n",
    "        return text('OK')\n",
    "    ```\n",
    "- [PUT](https://developer.mozilla.org/en-US/docs/Web/HTTP/Methods/PUT):\n",
    "    ```python\n",
    "    @app.put('/test')\n",
    "    async def handler(request):\n",
    "        return text('OK')\n",
    "    ```\n",
    "- [PATCH](https://developer.mozilla.org/en-US/docs/Web/HTTP/Methods/PATCH):\n",
    "    ```python\n",
    "    @app.patch('/test')\n",
    "    async def handler(request):\n",
    "        return text('OK')\n",
    "    ```\n",
    "- [DELETE](https://developer.mozilla.org/en-US/docs/Web/HTTP/Methods/DELETE):\n",
    "    ```python\n",
    "    @app.delete('/test')\n",
    "    async def handler(request):\n",
    "        return text('OK')\n",
    "    ```\n",
    "- [HEAD](https://developer.mozilla.org/en-US/docs/Web/HTTP/Methods/HEAD):\n",
    "    ```python\n",
    "    @app.head('/test')\n",
    "    async def handler(request):\n",
    "        return text('OK')\n",
    "    ```\n",
    "- [OPTIONS](https://developer.mozilla.org/en-US/docs/Web/HTTP/Methods/OPTIONS):\n",
    "    ```python\n",
    "    @app.options('/test')\n",
    "    async def handler(request):\n",
    "        return text('OK')\n",
    "    ```"
   ]
  },
  {
   "cell_type": "markdown",
   "metadata": {},
   "source": [
    "````{warning}\n",
    "默认情况下，Sanic 只会在非安全的 HTTP 方法上消耗传入的请求体：POST、PUT、PATCH、DELETE。如果您希望在其他任何方法上接收 HTTP 请求中的数据，您需要执行以下两个选项之一：\n",
    "- 选项#1 - 使用 `ignore_body` 告诉 Sanic 消耗请求体\n",
    "    ```python\n",
    "    @app.request(\"/path\", ignore_body=False)\n",
    "    async def handler(_):\n",
    "        ...\n",
    "    ```\n",
    "- 选项#2 - 在处理程序中使用 `receive_body` 手动消耗请求体\n",
    "    ```python\n",
    "    @app.get(\"/path\")\n",
    "    async def handler(request: Request):\n",
    "        await request.receive_body()\n",
    "    ```\n",
    "````\n"
   ]
  },
  {
   "cell_type": "markdown",
   "metadata": {},
   "source": [
    "## 路径参数\n",
    "\n",
    "Sanic 允许进行模式匹配，并从 URL 路径中提取值。这些参数随后会作为关键字参数注入到路由处理程序中。\n",
    "\n",
    "```python\n",
    "@app.get(\"/tag/<tag>\")\n",
    "async def tag_handler(request, tag):\n",
    "    return text(f\"Tag - {tag}\")\n",
    "```\n",
    "\n",
    "您可以声明参数的类型。这将在匹配时强制执行，并将对变量进行类型转换。"
   ]
  },
  {
   "cell_type": "markdown",
   "metadata": {},
   "source": [
    "```python\n",
    "@app.get(\"/foo/<foo_id:uuid>\")\n",
    "async def uuid_handler(request, foo_id: UUID):\n",
    "    return text(f\"UUID - {foo_id}\")\n",
    "```"
   ]
  },
  {
   "cell_type": "markdown",
   "metadata": {},
   "source": [
    "对于一些标准类型，如 {data}`str`、{data}`int` 和 `UUID`，Sanic 可以从函数签名中推断出路径参数的类型。这意味着在路径参数定义中可能不总是需要包含类型。\n",
    "\n",
    "```python\n",
    "@app.get(\"/foo/<foo_id>\")  # Notice there is no :uuid in the path parameter\n",
    "async def uuid_handler(request, foo_id: UUID):\n",
    "    return text(f\"UUID - {foo_id}\")\n",
    "```"
   ]
  }
 ],
 "metadata": {
  "kernelspec": {
   "display_name": "py311",
   "language": "python",
   "name": "python3"
  },
  "language_info": {
   "name": "python",
   "version": "3.11.7"
  }
 },
 "nbformat": 4,
 "nbformat_minor": 2
}
