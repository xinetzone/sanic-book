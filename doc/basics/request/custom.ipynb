{
 "cells": [
  {
   "cell_type": "markdown",
   "metadata": {},
   "source": [
    "# 定制请求"
   ]
  },
  {
   "cell_type": "markdown",
   "metadata": {},
   "source": [
    "## 定制上下文\n",
    "\n",
    "默认情况下，应用程序上下文是 [`SimpleNamespace`](https://docs.python.org/3/library/types.html#types.SimpleNamespace)，允许你在其上设置任何你想要的属性。但是，你也可以选择传递任何其他对象。\n",
    "\n",
    "```python\n",
    "app = Sanic(..., ctx=1)\n",
    "```\n",
    "```python\n",
    "app = Sanic(..., ctx={})\n",
    "```\n",
    "```python\n",
    "class MyContext:\n",
    "    ...\n",
    "\n",
    "app = Sanic(..., ctx=MyContext())\n",
    "```"
   ]
  },
  {
   "cell_type": "markdown",
   "metadata": {},
   "source": [
    "在大型代码库中拥有类型化的请求上下文对象非常便利。当然这不是必需的，但可能非常有用。\n",
    "\n",
    "```python\n",
    "from sanic import Sanic, Request\n",
    "from types import SimpleNamespace\n",
    "\n",
    "class CustomRequest(Request):\n",
    "    def __init__(self, *args, **kwargs):\n",
    "        super().__init__(*args, **kwargs)\n",
    "        self.ctx.user_id = self.headers.get(\"X-User-ID\")\n",
    "\n",
    "    @staticmethod\n",
    "    def make_context() -> CustomContext:\n",
    "        return CustomContext()\n",
    "\n",
    "@dataclass\n",
    "class CustomContext:\n",
    "    user_id: str = None\n",
    "\n",
    "```"
   ]
  },
  {
   "cell_type": "markdown",
   "metadata": {},
   "source": [
    "## 定制请求上下文\n",
    "\n",
    "有时候，拥有你自己的 Request 类并告诉 Sanic 使用它而不是默认的类是有帮助的。\n",
    "\n",
    "一个例子是如果你想修改默认的 `request.id` 生成器。\n",
    "\n",
    "```python\n",
    "import time\n",
    "\n",
    "from sanic import Request, Sanic, text\n",
    "\n",
    "class NanoSecondRequest(Request):\n",
    "    @classmethod\n",
    "    def generate_id(*_):\n",
    "        return time.time_ns()\n",
    "\n",
    "app = Sanic(..., request_class=NanoSecondRequest)\n",
    "\n",
    "@app.get(\"/\")\n",
    "async def handler(request):\n",
    "    return text(str(request.id))\n",
    "```\n",
    "\n",
    "```{tip}\n",
    "重要的是要记住，你传递的是类而不是类的实例。\n",
    "```"
   ]
  },
  {
   "cell_type": "markdown",
   "metadata": {},
   "source": [
    "## 定制请求对象\n",
    "\n",
    "可以创建 {class}`sanic.request.Request` 的子类来为请求对象添加额外的功能。这对于添加特定于你的应用程序的额外属性或方法非常有用。\n",
    "\n",
    "例如，想象你的应用程序发送包含用户 ID 的自定义头。你可以创建自定义请求对象，它将解析该头并为你存储用户 ID。\n",
    "\n",
    "```python\n",
    "from sanic import Sanic, Request\n",
    "\n",
    "class CustomRequest(Request):\n",
    "    def __init__(self, *args, **kwargs):\n",
    "        super().__init__(*args, **kwargs)\n",
    "        self.user_id = self.headers.get(\"X-User-ID\")\n",
    "```"
   ]
  },
  {
   "cell_type": "markdown",
   "metadata": {},
   "source": [
    "现在，在你的处理程序中，你可以访问 `user_id` 属性。\n",
    "\n",
    "```python\n",
    "@app.route(\"/\")\n",
    "async def handler(request: CustomRequest):\n",
    "    return text(f\"User ID: {request.user_id}\")\n",
    "```"
   ]
  }
 ],
 "metadata": {
  "language_info": {
   "name": "python"
  }
 },
 "nbformat": 4,
 "nbformat_minor": 2
}
