{
 "cells": [
  {
   "cell_type": "markdown",
   "metadata": {},
   "source": [
    "# Websockets\n",
    "\n",
    "Sanic 在 [websockets](https://websockets.readthedocs.io/en/stable/) 之上提供了易于使用的抽象。"
   ]
  },
  {
   "cell_type": "markdown",
   "metadata": {},
   "source": [
    "## 路由\n",
    "\n",
    "`Websocket` 处理程序可以像常规处理程序一样挂接到路由器。"
   ]
  },
  {
   "cell_type": "markdown",
   "metadata": {},
   "source": [
    "```python\n",
    "from sanic import Request, Websocket\n",
    "\n",
    "async def feed(request: Request, ws: Websocket):\n",
    "    pass\n",
    "\n",
    "app.add_websocket_route(feed, \"/feed\")\n",
    "```\n",
    "\n",
    "```python\n",
    "from sanic import Request, Websocket\n",
    "\n",
    "@app.websocket(\"/feed\")\n",
    "async def feed(request: Request, ws: Websocket):\n",
    "    pass\n",
    "```"
   ]
  },
  {
   "cell_type": "markdown",
   "metadata": {},
   "source": [
    "## Websocket 处理器\n",
    "\n",
    "通常，websocket 处理程序会希望保持一个循环打开。\n",
    "\n",
    "然后，它可以在注入到处理程序的第二个对象上使用 {meth}`send` 和 {meth}`recv` 方法。\n",
    "\n",
    "这个例子是简单的端点，它将收到的客户端消息回显回去。\n",
    "\n",
    "```python\n",
    "from sanic import Request, Websocket\n",
    "\n",
    "@app.websocket(\"/feed\")\n",
    "async def feed(request: Request, ws: Websocket):\n",
    "    while True:\n",
    "        data = \"hello!\"\n",
    "        print(\"Sending: \" + data)\n",
    "        await ws.send(data)\n",
    "        data = await ws.recv()\n",
    "        print(\"Received: \" + data)\n",
    "```"
   ]
  },
  {
   "cell_type": "markdown",
   "metadata": {},
   "source": [
    "你可以通过在 `for` 循环中迭代 Websocket 对象来简化你的循环。"
   ]
  },
  {
   "cell_type": "markdown",
   "metadata": {},
   "source": [
    "```python\n",
    "from sanic import Request, Websocket\n",
    "\n",
    "@app.websocket(\"/feed\")\n",
    "async def feed(request: Request, ws: Websocket):\n",
    "    async for msg in ws:\n",
    "        await ws.send(msg)\n",
    "```"
   ]
  },
  {
   "cell_type": "markdown",
   "metadata": {},
   "source": [
    "## Websocket 默认配置\n",
    "\n",
    "```python\n",
    "app.config.WEBSOCKET_MAX_SIZE = 2 ** 20\n",
    "app.config.WEBSOCKET_PING_INTERVAL = 20\n",
    "app.config.WEBSOCKET_PING_TIMEOUT = 20\n",
    "```"
   ]
  }
 ],
 "metadata": {
  "kernelspec": {
   "display_name": "py311",
   "language": "python",
   "name": "python3"
  },
  "language_info": {
   "codemirror_mode": {
    "name": "ipython",
    "version": 3
   },
   "file_extension": ".py",
   "mimetype": "text/x-python",
   "name": "python",
   "nbconvert_exporter": "python",
   "pygments_lexer": "ipython3",
   "version": "3.11.7"
  }
 },
 "nbformat": 4,
 "nbformat_minor": 2
}
