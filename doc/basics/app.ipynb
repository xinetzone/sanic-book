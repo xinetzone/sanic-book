{
 "cells": [
  {
   "cell_type": "markdown",
   "metadata": {},
   "source": [
    "# `sanic.app`\n",
    "\n",
    "最基本的构建块是 {class}`sanic.app.Sanic` 实例。虽然这不是必需的，但通常的做法是在名为 `server.py` 的文件中实例化这个类。\n",
    "\n",
    "```python\n",
    "# /path/to/server.py\n",
    "\n",
    "from sanic import Sanic\n",
    "\n",
    "app = Sanic(\"MyHelloWorldApp\")\n",
    "```"
   ]
  },
  {
   "cell_type": "markdown",
   "metadata": {},
   "source": [
    "## 应用上下文\n",
    "\n",
    "大多数应用程序都需要在代码库的不同部分之间共享/重用数据或对象。Sanic 通过在应用程序实例上提供 `ctx` 对象来帮助实现这一点。这是供开发人员附加任何应在应用程序的整个生命周期内存在的对象或数据的自由空间。\n",
    "\n",
    "最常见的模式是将数据库实例附加到应用程序上：\n",
    "\n",
    "```python\n",
    "from sanic import Sanic\n",
    "app = Sanic(\"MyApp\")\n",
    "app.ctx.db = Database()\n",
    "```"
   ]
  },
  {
   "cell_type": "markdown",
   "metadata": {},
   "source": [
    "虽然前面的示例将起作用并具有说明性，但通常认为最佳实践是在两个应用程序启动[监听器](https://sanic.dev/en/guide/basics/listeners.html)之一中附加对象。\n",
    "\n",
    "```python\n",
    "app = Sanic(\"MyApp\")\n",
    "\n",
    "@app.before_server_start\n",
    "async def attach_db(app, loop):\n",
    "    app.ctx.db = Database()\n",
    "```"
   ]
  },
  {
   "cell_type": "markdown",
   "metadata": {},
   "source": [
    "## app 注册表\n",
    "\n",
    "当你实例化 `Sanic` 实例时，稍后可以从 `Sanic` 应用程序注册表中检索它。例如，如果你需要从其他无法访问的位置访问你的 `Sanic` 实例，这可能会很有用。\n",
    "\n",
    "```python\n",
    "# ./path/to/server.py\n",
    "from sanic import Sanic\n",
    "\n",
    "app = Sanic(\"my_awesome_server\")\n",
    "\n",
    "# ./path/to/somewhere_else.py\n",
    "from sanic import Sanic\n",
    "\n",
    "app = Sanic.get_app(\"my_awesome_server\")\n",
    "```"
   ]
  },
  {
   "cell_type": "markdown",
   "metadata": {},
   "source": [
    "如果你在不存在的应用程序上调用 `Sanic.get_app(\"non-existing\")`，它默认会引发 {class}`sanic.exceptions.SanicException`。你也可以强制该方法返回具有该名称的新 `Sanic` 实例。"
   ]
  },
  {
   "cell_type": "code",
   "execution_count": 3,
   "metadata": {},
   "outputs": [],
   "source": [
    "app = Sanic.get_app(\n",
    "    \"non-existing\",\n",
    "    force_create=True,\n",
    ")"
   ]
  },
  {
   "cell_type": "markdown",
   "metadata": {},
   "source": [
    "如果只注册了一个 `Sanic` 实例，那么调用 `Sanic.get_app()` 而不带参数将返回该实例。\n",
    "\n",
    "```python\n",
    "Sanic(\"My only app\")\n",
    "\n",
    "app = Sanic.get_app()\n",
    "```"
   ]
  },
  {
   "cell_type": "markdown",
   "metadata": {},
   "source": [
    "## 应用配置\n",
    "\n",
    "在 Sanic 实例的 `config` 属性中持有配置。可以使用点表示法或像字典一样修改配置。\n",
    "\n",
    "```python\n",
    "app = Sanic('myapp')\n",
    "\n",
    "app.config.DB_NAME = 'appdb'\n",
    "app.config['DB_USER'] = 'appuser'\n",
    "\n",
    "db_settings = {\n",
    "    'DB_HOST': 'localhost',\n",
    "    'DB_NAME': 'appdb',\n",
    "    'DB_USER': 'appuser'\n",
    "}\n",
    "app.config.update(db_settings)\n",
    "```\n",
    "\n",
    "````{note}\n",
    "配置键应该是大写的。但这主要是出于约定，大多数情况下小写也可以工作。\n",
    "```python\n",
    "app.config.GOOD = \"yay!\"\n",
    "app.config.bad = \"boo\"\n",
    "```\n",
    "````"
   ]
  },
  {
   "cell_type": "markdown",
   "metadata": {},
   "source": [
    "## 工厂模式\n",
    "\n",
    "这些文档中的许多示例将展示在名为 `server.py` 的文件中实例化 `sanic.app.Sanic` 实例，位于“全局范围”（即不在函数内部）。这是非常简单的“hello world”风格应用程序的常见模式，但使用工厂模式往往更有利。\n",
    "\n",
    "“工厂”只是返回你想要使用的对象实例的函数。这允许你抽象化对象的实例化过程，但也可能会使隔离应用程序实例变得更容易。\n",
    "\n",
    "超级简单的工厂模式可能看起来像这样：\n",
    "\n",
    "```python\n",
    "# ./path/to/server.py\n",
    "from sanic import Sanic\n",
    "from .path.to.config import MyConfig\n",
    "from .path.to.some.blueprint import bp\n",
    "\n",
    "\n",
    "def create_app(config=MyConfig) -> Sanic:\n",
    "    app = Sanic(\"MyApp\", config=config)\n",
    "    app.blueprint(bp)\n",
    "    return app\n",
    "```"
   ]
  },
  {
   "cell_type": "markdown",
   "metadata": {},
   "source": [
    "当我们稍后运行 Sanic 时，你将了解到 Sanic CLI 可以检测到这种模式并使用它来运行你的应用程序。\n",
    "\n",
    "```bash\n",
    "sanic path.to.server:create_app\n",
    "```"
   ]
  }
 ],
 "metadata": {
  "kernelspec": {
   "display_name": "py311",
   "language": "python",
   "name": "python3"
  },
  "language_info": {
   "codemirror_mode": {
    "name": "ipython",
    "version": 3
   },
   "file_extension": ".py",
   "mimetype": "text/x-python",
   "name": "python",
   "nbconvert_exporter": "python",
   "pygments_lexer": "ipython3",
   "version": "3.11.7"
  }
 },
 "nbformat": 4,
 "nbformat_minor": 2
}
