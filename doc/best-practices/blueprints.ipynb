{
 "cells": [
  {
   "cell_type": "markdown",
   "metadata": {},
   "source": [
    "# Sanic 蓝图\n",
    "\n",
    "蓝图是可以在应用程序内用于子路由的对象。与其将路由添加到应用程序实例，不如蓝图定义了类似的方法来添加路由，然后以灵活和可插拔的方式与应用程序注册。\n",
    "\n",
    "蓝图在较大的应用程序中特别有用，因为你的应用程序逻辑可以被分解成几个组或责任区域。"
   ]
  },
  {
   "cell_type": "markdown",
   "metadata": {},
   "source": [
    "## 创建和注册蓝图"
   ]
  },
  {
   "cell_type": "markdown",
   "metadata": {},
   "source": [
    "首先，你必须创建蓝图。它有一与 `Sanic()` 应用程序实例非常相似的 API，并且有许多相同的装饰器。"
   ]
  },
  {
   "cell_type": "markdown",
   "metadata": {},
   "source": [
    "```python\n",
    "# ./my_blueprint.py\n",
    "from sanic.response import json\n",
    "from sanic import Blueprint\n",
    "\n",
    "bp = Blueprint(\"my_blueprint\")\n",
    "\n",
    "@bp.route(\"/\")\n",
    "async def bp_root(request):\n",
    "    return json({\"my\": \"blueprint\"})\n",
    "```"
   ]
  },
  {
   "cell_type": "markdown",
   "metadata": {},
   "source": [
    "将此蓝图注册到 app：\n",
    "\n",
    "```python\n",
    "from sanic import Sanic\n",
    "from my_blueprint import bp\n",
    "\n",
    "app = Sanic(__name__)\n",
    "app.blueprint(bp)\n",
    "```"
   ]
  },
  {
   "cell_type": "markdown",
   "metadata": {},
   "source": [
    "蓝图还有相同的 `websocket()` 装饰器和 `add_websocket_route` 方法来实现 `websockets`。\n",
    "\n",
    "从 v21.12 开始，蓝图可以在向其添加对象之前或之后注册。以前，只有在注册时附加到蓝图的对象才会加载到应用程序实例中。"
   ]
  },
  {
   "cell_type": "markdown",
   "metadata": {},
   "source": [
    "```python\n",
    "app.blueprint(bp)\n",
    "\n",
    "@bp.route(\"/\")\n",
    "async def bp_root(request):\n",
    "    ...\n",
    "```"
   ]
  },
  {
   "cell_type": "markdown",
   "metadata": {},
   "source": [
    "## 蓝图副本\n",
    "\n",
    "蓝图及其附加的所有内容可以使用 `copy()` 方法复制到新实例。唯一的必需参数是给它传递一个新名称。然而，你也可以使用这个来覆盖旧蓝图中的任何值。"
   ]
  },
  {
   "cell_type": "markdown",
   "metadata": {},
   "source": [
    "```python\n",
    "v1 = Blueprint(\"Version1\", version=1)\n",
    "\n",
    "@v1.route(\"/something\")\n",
    "def something(request):\n",
    "    pass\n",
    "\n",
    "v2 = v1.copy(\"Version2\", version=2)\n",
    "\n",
    "app.blueprint(v1)\n",
    "app.blueprint(v2)\n",
    "```\n",
    "\n",
    "可得到的路由有：\n",
    "\n",
    "```\n",
    "/v1/something\n",
    "/v2/something\n",
    "```"
   ]
  },
  {
   "cell_type": "markdown",
   "metadata": {},
   "source": [
    "## 蓝图组\n",
    "\n",
    "蓝图也可以作为列表或元组的一部分进行注册，其中注册者将递归地循环遍历蓝图的任何子序列并相应地进行注册。{meth}`Blueprint.group` 方法提供了简化此过程的功能，允许“模拟”后端目录结构，模仿前端所看到的内容。考虑这个（相当牵强的）例子：\n",
    "\n",
    "```python\n",
    "api/\n",
    "├──content/\n",
    "│ ├──authors.py\n",
    "│ ├──static.py\n",
    "│ └──__init__.py\n",
    "├──info.py\n",
    "└──__init__.py\n",
    "app.py\n",
    "```"
   ]
  },
  {
   "cell_type": "markdown",
   "metadata": {},
   "source": [
    "::::{card} 第一个蓝图\n",
    "```python\n",
    "# api/content/authors.py\n",
    "from sanic import Blueprint\n",
    "\n",
    "authors = Blueprint(\"content_authors\", url_prefix=\"/authors\")\n",
    "```\n",
    "::::"
   ]
  },
  {
   "cell_type": "markdown",
   "metadata": {},
   "source": [
    "::::{card} 第二个蓝图\n",
    "```python\n",
    "# api/content/static.py\n",
    "from sanic import Blueprint\n",
    "\n",
    "static = Blueprint(\"content_static\", url_prefix=\"/static\")\n",
    "```\n",
    "::::"
   ]
  },
  {
   "cell_type": "markdown",
   "metadata": {},
   "source": [
    "::::{card} 蓝图组\n",
    "```python\n",
    "# api/content/__init__.py\n",
    "from sanic import Blueprint\n",
    "from .static import static\n",
    "from .authors import authors\n",
    "\n",
    "content = Blueprint.group(static, authors, url_prefix=\"/content\")\n",
    "```\n",
    "::::"
   ]
  },
  {
   "cell_type": "markdown",
   "metadata": {},
   "source": [
    "::::{card} 第三个蓝图\n",
    "```python\n",
    "# api/info.py\n",
    "from sanic import Blueprint\n",
    "\n",
    "info = Blueprint(\"info\", url_prefix=\"/info\")\n",
    "```\n",
    "::::"
   ]
  },
  {
   "cell_type": "markdown",
   "metadata": {},
   "source": [
    "::::{card} 第二个蓝图组\n",
    "```python\n",
    "# api/__init__.py\n",
    "from sanic import Blueprint\n",
    "from .content import content\n",
    "from .info import info\n",
    "\n",
    "api = Blueprint.group(content, info, url_prefix=\"/api\")\n",
    "```\n",
    "::::"
   ]
  },
  {
   "cell_type": "markdown",
   "metadata": {},
   "source": [
    "::::{card} 应用主接口\n",
    "```python\n",
    "# app.py\n",
    "from sanic import Sanic\n",
    "from .api import api\n",
    "\n",
    "app = Sanic(__name__)\n",
    "app.blueprint(api)\n",
    "```\n",
    "::::"
   ]
  },
  {
   "cell_type": "markdown",
   "metadata": {},
   "source": [
    "## 蓝图组前缀和可组合性\n",
    "\n",
    "如上面的代码所示，当你创建一组蓝图时，你可以通过将 `url_prefix` 参数传递给 `Blueprint.group` 方法来扩展组中所有蓝图的 URL 前缀。这对于为你的 API 创建模拟目录结构很有用。\n",
    "\n",
    "此外，还有 `name_prefix` 参数可以用来使蓝图可重用和可组合。当将单个蓝图应用于多个组时，这是特别必要的。通过这样做，蓝图将以每个组的唯一名称进行注册，这允许蓝图多次注册，并且其路由都能正确地以唯一标识符命名。"
   ]
  },
  {
   "cell_type": "markdown",
   "metadata": {},
   "source": [
    "比如，如下代码创建路由：\n",
    "- `TestApp.group-a_bp1.route1`\n",
    "- `TestApp.group-a_bp2.route2`\n",
    "- `TestApp.group-b_bp1.route1`\n",
    "- `TestApp.group-b_bp2.route2`"
   ]
  },
  {
   "cell_type": "markdown",
   "metadata": {},
   "source": [
    "```python\n",
    "bp1 = Blueprint(\"bp1\", url_prefix=\"/bp1\")\n",
    "bp2 = Blueprint(\"bp2\", url_prefix=\"/bp2\")\n",
    "\n",
    "bp1.add_route(lambda _: ..., \"/\", name=\"route1\")\n",
    "bp2.add_route(lambda _: ..., \"/\", name=\"route2\")\n",
    "\n",
    "group_a = Blueprint.group(\n",
    "    bp1, bp2, url_prefix=\"/group-a\", name_prefix=\"group-a\"\n",
    ")\n",
    "group_b = Blueprint.group(\n",
    "    bp1, bp2, url_prefix=\"/group-b\", name_prefix=\"group-b\"\n",
    ")\n",
    "\n",
    "app = Sanic(\"TestApp\")\n",
    "app.blueprint(group_a)\n",
    "app.blueprint(group_b)\n",
    "```"
   ]
  },
  {
   "cell_type": "markdown",
   "metadata": {},
   "source": [
    "## 蓝图中间件\n",
    "\n",
    "蓝图还可以有专门注册给其端点的中间件。、\n",
    "\n",
    "```python\n",
    "@bp.middleware\n",
    "async def print_on_request(request):\n",
    "    print(\"I am a spy\")\n",
    "\n",
    "@bp.middleware(\"request\")\n",
    "async def halt_request(request):\n",
    "    return text(\"I halted the request\")\n",
    "\n",
    "@bp.middleware(\"response\")\n",
    "async def halt_response(request, response):\n",
    "    return text(\"I halted the response\")\n",
    "```"
   ]
  },
  {
   "cell_type": "markdown",
   "metadata": {},
   "source": [
    "同样地，使用蓝图组，可以将中间件应用于一组嵌套蓝图的整个组。\n",
    "\n",
    "```python\n",
    "bp1 = Blueprint(\"bp1\", url_prefix=\"/bp1\")\n",
    "bp2 = Blueprint(\"bp2\", url_prefix=\"/bp2\")\n",
    "\n",
    "@bp1.middleware(\"request\")\n",
    "async def bp1_only_middleware(request):\n",
    "    print(\"applied on Blueprint : bp1 Only\")\n",
    "\n",
    "@bp1.route(\"/\")\n",
    "async def bp1_route(request):\n",
    "    return text(\"bp1\")\n",
    "\n",
    "@bp2.route(\"/<param>\")\n",
    "async def bp2_route(request, param):\n",
    "    return text(param)\n",
    "\n",
    "group = Blueprint.group(bp1, bp2)\n",
    "\n",
    "@group.middleware(\"request\")\n",
    "async def group_middleware(request):\n",
    "    print(\"common middleware applied for both bp1 and bp2\")\n",
    "\n",
    "# Register Blueprint group under the app\n",
    "app.blueprint(group)\n",
    "```"
   ]
  },
  {
   "cell_type": "markdown",
   "metadata": {},
   "source": [
    "## 蓝图异常处理\n",
    "\n",
    "```python\n",
    "@bp.exception(NotFound)\n",
    "def ignore_404s(request, exception):\n",
    "    return text(\"Yep, I totally found the page: {}\".format(request.url))\n",
    "```"
   ]
  },
  {
   "cell_type": "markdown",
   "metadata": {},
   "source": [
    "## 蓝图可组合\n",
    "\n",
    "一个蓝图可以注册到多个组中，每个 BlueprintGroup 本身也可以被注册并进一步嵌套。这创造了无限可能的蓝图组合。\n",
    "\n",
    "看看这个例子，看看两个处理程序实际上是如何作为五个（5）不同的路由挂载的。"
   ]
  },
  {
   "cell_type": "markdown",
   "metadata": {},
   "source": [
    "```python\n",
    "app = Sanic(__name__)\n",
    "blueprint_1 = Blueprint(\"blueprint_1\", url_prefix=\"/bp1\")\n",
    "blueprint_2 = Blueprint(\"blueprint_2\", url_prefix=\"/bp2\")\n",
    "group = Blueprint.group(\n",
    "    blueprint_1,\n",
    "    blueprint_2,\n",
    "    version=1,\n",
    "    version_prefix=\"/api/v\",\n",
    "    url_prefix=\"/grouped\",\n",
    "    strict_slashes=True,\n",
    ")\n",
    "primary = Blueprint.group(group, url_prefix=\"/primary\")\n",
    "\n",
    "@blueprint_1.route(\"/\")\n",
    "def blueprint_1_default_route(request):\n",
    "    return text(\"BP1_OK\")\n",
    "\n",
    "@blueprint_2.route(\"/\")\n",
    "def blueprint_2_default_route(request):\n",
    "    return text(\"BP2_OK\")\n",
    "\n",
    "app.blueprint(group)\n",
    "app.blueprint(primary)\n",
    "app.blueprint(blueprint_1)\n",
    "\n",
    "# The mounted paths:\n",
    "# /api/v1/grouped/bp1/\n",
    "# /api/v1/grouped/bp2/\n",
    "# /api/v1/primary/grouped/bp1\n",
    "# /api/v1/primary/grouped/bp2\n",
    "# /bp1\n",
    "```"
   ]
  }
 ],
 "metadata": {
  "language_info": {
   "name": "python"
  }
 },
 "nbformat": 4,
 "nbformat_minor": 2
}
